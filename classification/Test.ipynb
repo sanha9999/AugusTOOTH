{
 "cells": [
  {
   "cell_type": "code",
   "execution_count": 1,
   "id": "f54ea92a",
   "metadata": {},
   "outputs": [],
   "source": [
    "import torch\n",
    "import os\n",
    "import numpy as np\n",
    "from torch.utils.data import DataLoader, Dataset\n",
    "import torch.nn as nn\n",
    "import torch.nn.functional as F\n",
    "from PIL import Image\n",
    "import cv2\n",
    "import torchvision\n",
    "from torchvision import transforms\n",
    "import albumentations\n",
    "import albumentations.pytorch\n",
    "from torch.utils.tensorboard import SummaryWriter\n",
    "import datetime"
   ]
  },
  {
   "cell_type": "code",
   "execution_count": 2,
   "id": "6603279c",
   "metadata": {},
   "outputs": [
    {
     "name": "stderr",
     "output_type": "stream",
     "text": [
      "/usr/local/lib/python3.8/dist-packages/torch-1.9.1-py3.8-linux-x86_64.egg/torch/serialization.py:602: UserWarning: 'torch.load' received a zip file that looks like a TorchScript archive dispatching to 'torch.jit.load' (call 'torch.jit.load' directly to silence this warning)\n",
      "  warnings.warn(\"'torch.load' received a zip file that looks like a TorchScript archive\"\n"
     ]
    }
   ],
   "source": [
    "model = torch.load('/home/temp_1/kangsanha/malocclusion/classification/model_script.ptl')"
   ]
  },
  {
   "cell_type": "code",
   "execution_count": 3,
   "id": "0a701ddf",
   "metadata": {},
   "outputs": [
    {
     "data": {
      "text/plain": [
       "RecursiveScriptModule(\n",
       "  original_name=ResNet\n",
       "  (conv1): RecursiveScriptModule(original_name=Conv2d)\n",
       "  (bn1): RecursiveScriptModule(original_name=BatchNorm2d)\n",
       "  (relu): RecursiveScriptModule(original_name=ReLU)\n",
       "  (maxpool): RecursiveScriptModule(original_name=MaxPool2d)\n",
       "  (layer1): RecursiveScriptModule(\n",
       "    original_name=Sequential\n",
       "    (0): RecursiveScriptModule(\n",
       "      original_name=Bottleneck\n",
       "      (conv1): RecursiveScriptModule(original_name=Conv2d)\n",
       "      (bn1): RecursiveScriptModule(original_name=BatchNorm2d)\n",
       "      (conv2): RecursiveScriptModule(original_name=Conv2d)\n",
       "      (bn2): RecursiveScriptModule(original_name=BatchNorm2d)\n",
       "      (conv3): RecursiveScriptModule(original_name=Conv2d)\n",
       "      (bn3): RecursiveScriptModule(original_name=BatchNorm2d)\n",
       "      (relu): RecursiveScriptModule(original_name=ReLU)\n",
       "      (downsample): RecursiveScriptModule(\n",
       "        original_name=Sequential\n",
       "        (0): RecursiveScriptModule(original_name=Conv2d)\n",
       "        (1): RecursiveScriptModule(original_name=BatchNorm2d)\n",
       "      )\n",
       "    )\n",
       "    (1): RecursiveScriptModule(\n",
       "      original_name=Bottleneck\n",
       "      (conv1): RecursiveScriptModule(original_name=Conv2d)\n",
       "      (bn1): RecursiveScriptModule(original_name=BatchNorm2d)\n",
       "      (conv2): RecursiveScriptModule(original_name=Conv2d)\n",
       "      (bn2): RecursiveScriptModule(original_name=BatchNorm2d)\n",
       "      (conv3): RecursiveScriptModule(original_name=Conv2d)\n",
       "      (bn3): RecursiveScriptModule(original_name=BatchNorm2d)\n",
       "      (relu): RecursiveScriptModule(original_name=ReLU)\n",
       "    )\n",
       "    (2): RecursiveScriptModule(\n",
       "      original_name=Bottleneck\n",
       "      (conv1): RecursiveScriptModule(original_name=Conv2d)\n",
       "      (bn1): RecursiveScriptModule(original_name=BatchNorm2d)\n",
       "      (conv2): RecursiveScriptModule(original_name=Conv2d)\n",
       "      (bn2): RecursiveScriptModule(original_name=BatchNorm2d)\n",
       "      (conv3): RecursiveScriptModule(original_name=Conv2d)\n",
       "      (bn3): RecursiveScriptModule(original_name=BatchNorm2d)\n",
       "      (relu): RecursiveScriptModule(original_name=ReLU)\n",
       "    )\n",
       "  )\n",
       "  (layer2): RecursiveScriptModule(\n",
       "    original_name=Sequential\n",
       "    (0): RecursiveScriptModule(\n",
       "      original_name=Bottleneck\n",
       "      (conv1): RecursiveScriptModule(original_name=Conv2d)\n",
       "      (bn1): RecursiveScriptModule(original_name=BatchNorm2d)\n",
       "      (conv2): RecursiveScriptModule(original_name=Conv2d)\n",
       "      (bn2): RecursiveScriptModule(original_name=BatchNorm2d)\n",
       "      (conv3): RecursiveScriptModule(original_name=Conv2d)\n",
       "      (bn3): RecursiveScriptModule(original_name=BatchNorm2d)\n",
       "      (relu): RecursiveScriptModule(original_name=ReLU)\n",
       "      (downsample): RecursiveScriptModule(\n",
       "        original_name=Sequential\n",
       "        (0): RecursiveScriptModule(original_name=Conv2d)\n",
       "        (1): RecursiveScriptModule(original_name=BatchNorm2d)\n",
       "      )\n",
       "    )\n",
       "    (1): RecursiveScriptModule(\n",
       "      original_name=Bottleneck\n",
       "      (conv1): RecursiveScriptModule(original_name=Conv2d)\n",
       "      (bn1): RecursiveScriptModule(original_name=BatchNorm2d)\n",
       "      (conv2): RecursiveScriptModule(original_name=Conv2d)\n",
       "      (bn2): RecursiveScriptModule(original_name=BatchNorm2d)\n",
       "      (conv3): RecursiveScriptModule(original_name=Conv2d)\n",
       "      (bn3): RecursiveScriptModule(original_name=BatchNorm2d)\n",
       "      (relu): RecursiveScriptModule(original_name=ReLU)\n",
       "    )\n",
       "    (2): RecursiveScriptModule(\n",
       "      original_name=Bottleneck\n",
       "      (conv1): RecursiveScriptModule(original_name=Conv2d)\n",
       "      (bn1): RecursiveScriptModule(original_name=BatchNorm2d)\n",
       "      (conv2): RecursiveScriptModule(original_name=Conv2d)\n",
       "      (bn2): RecursiveScriptModule(original_name=BatchNorm2d)\n",
       "      (conv3): RecursiveScriptModule(original_name=Conv2d)\n",
       "      (bn3): RecursiveScriptModule(original_name=BatchNorm2d)\n",
       "      (relu): RecursiveScriptModule(original_name=ReLU)\n",
       "    )\n",
       "    (3): RecursiveScriptModule(\n",
       "      original_name=Bottleneck\n",
       "      (conv1): RecursiveScriptModule(original_name=Conv2d)\n",
       "      (bn1): RecursiveScriptModule(original_name=BatchNorm2d)\n",
       "      (conv2): RecursiveScriptModule(original_name=Conv2d)\n",
       "      (bn2): RecursiveScriptModule(original_name=BatchNorm2d)\n",
       "      (conv3): RecursiveScriptModule(original_name=Conv2d)\n",
       "      (bn3): RecursiveScriptModule(original_name=BatchNorm2d)\n",
       "      (relu): RecursiveScriptModule(original_name=ReLU)\n",
       "    )\n",
       "  )\n",
       "  (layer3): RecursiveScriptModule(\n",
       "    original_name=Sequential\n",
       "    (0): RecursiveScriptModule(\n",
       "      original_name=Bottleneck\n",
       "      (conv1): RecursiveScriptModule(original_name=Conv2d)\n",
       "      (bn1): RecursiveScriptModule(original_name=BatchNorm2d)\n",
       "      (conv2): RecursiveScriptModule(original_name=Conv2d)\n",
       "      (bn2): RecursiveScriptModule(original_name=BatchNorm2d)\n",
       "      (conv3): RecursiveScriptModule(original_name=Conv2d)\n",
       "      (bn3): RecursiveScriptModule(original_name=BatchNorm2d)\n",
       "      (relu): RecursiveScriptModule(original_name=ReLU)\n",
       "      (downsample): RecursiveScriptModule(\n",
       "        original_name=Sequential\n",
       "        (0): RecursiveScriptModule(original_name=Conv2d)\n",
       "        (1): RecursiveScriptModule(original_name=BatchNorm2d)\n",
       "      )\n",
       "    )\n",
       "    (1): RecursiveScriptModule(\n",
       "      original_name=Bottleneck\n",
       "      (conv1): RecursiveScriptModule(original_name=Conv2d)\n",
       "      (bn1): RecursiveScriptModule(original_name=BatchNorm2d)\n",
       "      (conv2): RecursiveScriptModule(original_name=Conv2d)\n",
       "      (bn2): RecursiveScriptModule(original_name=BatchNorm2d)\n",
       "      (conv3): RecursiveScriptModule(original_name=Conv2d)\n",
       "      (bn3): RecursiveScriptModule(original_name=BatchNorm2d)\n",
       "      (relu): RecursiveScriptModule(original_name=ReLU)\n",
       "    )\n",
       "    (2): RecursiveScriptModule(\n",
       "      original_name=Bottleneck\n",
       "      (conv1): RecursiveScriptModule(original_name=Conv2d)\n",
       "      (bn1): RecursiveScriptModule(original_name=BatchNorm2d)\n",
       "      (conv2): RecursiveScriptModule(original_name=Conv2d)\n",
       "      (bn2): RecursiveScriptModule(original_name=BatchNorm2d)\n",
       "      (conv3): RecursiveScriptModule(original_name=Conv2d)\n",
       "      (bn3): RecursiveScriptModule(original_name=BatchNorm2d)\n",
       "      (relu): RecursiveScriptModule(original_name=ReLU)\n",
       "    )\n",
       "    (3): RecursiveScriptModule(\n",
       "      original_name=Bottleneck\n",
       "      (conv1): RecursiveScriptModule(original_name=Conv2d)\n",
       "      (bn1): RecursiveScriptModule(original_name=BatchNorm2d)\n",
       "      (conv2): RecursiveScriptModule(original_name=Conv2d)\n",
       "      (bn2): RecursiveScriptModule(original_name=BatchNorm2d)\n",
       "      (conv3): RecursiveScriptModule(original_name=Conv2d)\n",
       "      (bn3): RecursiveScriptModule(original_name=BatchNorm2d)\n",
       "      (relu): RecursiveScriptModule(original_name=ReLU)\n",
       "    )\n",
       "    (4): RecursiveScriptModule(\n",
       "      original_name=Bottleneck\n",
       "      (conv1): RecursiveScriptModule(original_name=Conv2d)\n",
       "      (bn1): RecursiveScriptModule(original_name=BatchNorm2d)\n",
       "      (conv2): RecursiveScriptModule(original_name=Conv2d)\n",
       "      (bn2): RecursiveScriptModule(original_name=BatchNorm2d)\n",
       "      (conv3): RecursiveScriptModule(original_name=Conv2d)\n",
       "      (bn3): RecursiveScriptModule(original_name=BatchNorm2d)\n",
       "      (relu): RecursiveScriptModule(original_name=ReLU)\n",
       "    )\n",
       "    (5): RecursiveScriptModule(\n",
       "      original_name=Bottleneck\n",
       "      (conv1): RecursiveScriptModule(original_name=Conv2d)\n",
       "      (bn1): RecursiveScriptModule(original_name=BatchNorm2d)\n",
       "      (conv2): RecursiveScriptModule(original_name=Conv2d)\n",
       "      (bn2): RecursiveScriptModule(original_name=BatchNorm2d)\n",
       "      (conv3): RecursiveScriptModule(original_name=Conv2d)\n",
       "      (bn3): RecursiveScriptModule(original_name=BatchNorm2d)\n",
       "      (relu): RecursiveScriptModule(original_name=ReLU)\n",
       "    )\n",
       "  )\n",
       "  (layer4): RecursiveScriptModule(\n",
       "    original_name=Sequential\n",
       "    (0): RecursiveScriptModule(\n",
       "      original_name=Bottleneck\n",
       "      (conv1): RecursiveScriptModule(original_name=Conv2d)\n",
       "      (bn1): RecursiveScriptModule(original_name=BatchNorm2d)\n",
       "      (conv2): RecursiveScriptModule(original_name=Conv2d)\n",
       "      (bn2): RecursiveScriptModule(original_name=BatchNorm2d)\n",
       "      (conv3): RecursiveScriptModule(original_name=Conv2d)\n",
       "      (bn3): RecursiveScriptModule(original_name=BatchNorm2d)\n",
       "      (relu): RecursiveScriptModule(original_name=ReLU)\n",
       "      (downsample): RecursiveScriptModule(\n",
       "        original_name=Sequential\n",
       "        (0): RecursiveScriptModule(original_name=Conv2d)\n",
       "        (1): RecursiveScriptModule(original_name=BatchNorm2d)\n",
       "      )\n",
       "    )\n",
       "    (1): RecursiveScriptModule(\n",
       "      original_name=Bottleneck\n",
       "      (conv1): RecursiveScriptModule(original_name=Conv2d)\n",
       "      (bn1): RecursiveScriptModule(original_name=BatchNorm2d)\n",
       "      (conv2): RecursiveScriptModule(original_name=Conv2d)\n",
       "      (bn2): RecursiveScriptModule(original_name=BatchNorm2d)\n",
       "      (conv3): RecursiveScriptModule(original_name=Conv2d)\n",
       "      (bn3): RecursiveScriptModule(original_name=BatchNorm2d)\n",
       "      (relu): RecursiveScriptModule(original_name=ReLU)\n",
       "    )\n",
       "    (2): RecursiveScriptModule(\n",
       "      original_name=Bottleneck\n",
       "      (conv1): RecursiveScriptModule(original_name=Conv2d)\n",
       "      (bn1): RecursiveScriptModule(original_name=BatchNorm2d)\n",
       "      (conv2): RecursiveScriptModule(original_name=Conv2d)\n",
       "      (bn2): RecursiveScriptModule(original_name=BatchNorm2d)\n",
       "      (conv3): RecursiveScriptModule(original_name=Conv2d)\n",
       "      (bn3): RecursiveScriptModule(original_name=BatchNorm2d)\n",
       "      (relu): RecursiveScriptModule(original_name=ReLU)\n",
       "    )\n",
       "  )\n",
       "  (avgpool): RecursiveScriptModule(original_name=AdaptiveAvgPool2d)\n",
       "  (fc): RecursiveScriptModule(original_name=Linear)\n",
       ")"
      ]
     },
     "execution_count": 3,
     "metadata": {},
     "output_type": "execute_result"
    }
   ],
   "source": [
    "model.eval()"
   ]
  },
  {
   "cell_type": "code",
   "execution_count": 4,
   "id": "799ec41b",
   "metadata": {},
   "outputs": [],
   "source": [
    "device = torch.device('cuda')"
   ]
  },
  {
   "cell_type": "code",
   "execution_count": 5,
   "id": "35039a87",
   "metadata": {},
   "outputs": [],
   "source": [
    "img_path = \"/home/temp_1/kangsanha/malocclusion/classification/1.jpg\""
   ]
  },
  {
   "cell_type": "code",
   "execution_count": 6,
   "id": "d99b615b",
   "metadata": {},
   "outputs": [],
   "source": [
    "img = cv2.imread(img_path)\n",
    "img = cv2.cvtColor(img, cv2.COLOR_BGR2RGB) # BGR -> RGB"
   ]
  },
  {
   "cell_type": "code",
   "execution_count": 7,
   "id": "1820a477",
   "metadata": {},
   "outputs": [
    {
     "data": {
      "text/plain": [
       "numpy.ndarray"
      ]
     },
     "execution_count": 7,
     "metadata": {},
     "output_type": "execute_result"
    }
   ],
   "source": [
    "type(img)"
   ]
  },
  {
   "cell_type": "code",
   "execution_count": 8,
   "id": "0704ae38",
   "metadata": {},
   "outputs": [
    {
     "data": {
      "text/plain": [
       "numpy.ndarray"
      ]
     },
     "execution_count": 8,
     "metadata": {},
     "output_type": "execute_result"
    }
   ],
   "source": [
    "type(img)"
   ]
  },
  {
   "cell_type": "code",
   "execution_count": 9,
   "id": "bf7fd963",
   "metadata": {},
   "outputs": [],
   "source": [
    "img = img / 255.0"
   ]
  },
  {
   "cell_type": "code",
   "execution_count": 10,
   "id": "844005c9",
   "metadata": {},
   "outputs": [
    {
     "data": {
      "text/plain": [
       "(1908, 2700, 3)"
      ]
     },
     "execution_count": 10,
     "metadata": {},
     "output_type": "execute_result"
    }
   ],
   "source": [
    "np.shape(img)"
   ]
  },
  {
   "cell_type": "code",
   "execution_count": 11,
   "id": "1e06f274",
   "metadata": {},
   "outputs": [],
   "source": [
    "transform = transforms.ToTensor()"
   ]
  },
  {
   "cell_type": "code",
   "execution_count": 12,
   "id": "42b63b48",
   "metadata": {},
   "outputs": [],
   "source": [
    "img = transform(img)"
   ]
  },
  {
   "cell_type": "code",
   "execution_count": 15,
   "id": "a049b5d1",
   "metadata": {},
   "outputs": [],
   "source": [
    "img = img.permute(1,2,0)"
   ]
  },
  {
   "cell_type": "code",
   "execution_count": 16,
   "id": "d317ccdb",
   "metadata": {},
   "outputs": [
    {
     "data": {
      "text/plain": [
       "torch.Size([3, 1908, 2700])"
      ]
     },
     "execution_count": 16,
     "metadata": {},
     "output_type": "execute_result"
    }
   ],
   "source": [
    "np.shape(img)"
   ]
  },
  {
   "cell_type": "code",
   "execution_count": 18,
   "id": "0d52f52c",
   "metadata": {},
   "outputs": [],
   "source": [
    "img = img.unsqueeze(0)"
   ]
  },
  {
   "cell_type": "code",
   "execution_count": 19,
   "id": "8d9cb7c4",
   "metadata": {},
   "outputs": [
    {
     "data": {
      "text/plain": [
       "torch.Size([1, 3, 1908, 2700])"
      ]
     },
     "execution_count": 19,
     "metadata": {},
     "output_type": "execute_result"
    }
   ],
   "source": [
    "img.shape"
   ]
  },
  {
   "cell_type": "code",
   "execution_count": 29,
   "id": "2b16dbe8",
   "metadata": {
    "scrolled": true
   },
   "outputs": [],
   "source": [
    "output = model(img)"
   ]
  },
  {
   "cell_type": "code",
   "execution_count": 23,
   "id": "84297d7f",
   "metadata": {},
   "outputs": [],
   "source": [
    "model = model.to(device)"
   ]
  },
  {
   "cell_type": "code",
   "execution_count": 28,
   "id": "99f1a86a",
   "metadata": {},
   "outputs": [],
   "source": [
    "img = img.to(device).float()"
   ]
  },
  {
   "cell_type": "code",
   "execution_count": 31,
   "id": "878707e7",
   "metadata": {},
   "outputs": [
    {
     "data": {
      "text/plain": [
       "tensor([[-1.5171,  1.6698]], device='cuda:0', grad_fn=<AddmmBackward>)"
      ]
     },
     "execution_count": 31,
     "metadata": {},
     "output_type": "execute_result"
    }
   ],
   "source": [
    "output"
   ]
  },
  {
   "cell_type": "code",
   "execution_count": 32,
   "id": "1752dae0",
   "metadata": {},
   "outputs": [],
   "source": [
    "_, predicted = torch.max(output.data, 1)"
   ]
  },
  {
   "cell_type": "code",
   "execution_count": 33,
   "id": "9732906a",
   "metadata": {},
   "outputs": [
    {
     "data": {
      "text/plain": [
       "tensor([1], device='cuda:0')"
      ]
     },
     "execution_count": 33,
     "metadata": {},
     "output_type": "execute_result"
    }
   ],
   "source": [
    "predicted"
   ]
  },
  {
   "cell_type": "code",
   "execution_count": null,
   "id": "fa8eb59f",
   "metadata": {},
   "outputs": [],
   "source": []
  }
 ],
 "metadata": {
  "kernelspec": {
   "display_name": "Python 3 (ipykernel)",
   "language": "python",
   "name": "python3"
  },
  "language_info": {
   "codemirror_mode": {
    "name": "ipython",
    "version": 3
   },
   "file_extension": ".py",
   "mimetype": "text/x-python",
   "name": "python",
   "nbconvert_exporter": "python",
   "pygments_lexer": "ipython3",
   "version": "3.8.0"
  }
 },
 "nbformat": 4,
 "nbformat_minor": 5
}
